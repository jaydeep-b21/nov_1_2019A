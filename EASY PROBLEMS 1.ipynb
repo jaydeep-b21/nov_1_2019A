{
 "cells": [
  {
   "cell_type": "markdown",
   "metadata": {},
   "source": [
    "# (1) Take two inputs from the user. One will be an integer. The other will be a float number. Then multiply them to display the output."
   ]
  },
  {
   "cell_type": "markdown",
   "metadata": {},
   "source": [
    "HINT:  Use input. By default, input gives you a string. Then use int and float to convert the input to a number. And then multiply them. That’s it."
   ]
  },
  {
   "cell_type": "code",
   "execution_count": 1,
   "metadata": {},
   "outputs": [
    {
     "name": "stdout",
     "output_type": "stream",
     "text": [
      "Give me an integer number: 3\n",
      "Give me a float  number: 5.9837\n",
      "Your result is:  17.9511\n"
     ]
    }
   ],
   "source": [
    "int_text = input(\"Give me an integer number: \")\n",
    "int_num = int(int_text)\n",
    "float_text = input(\"Give me a float  number: \")\n",
    "float_num = float(float_text)\n",
    "result = int_num * float_num\n",
    "print(\"Your result is: \", result)"
   ]
  },
  {
   "cell_type": "raw",
   "metadata": {},
   "source": []
  },
  {
   "cell_type": "markdown",
   "metadata": {},
   "source": [
    "SHORTCUT"
   ]
  },
  {
   "cell_type": "code",
   "execution_count": 2,
   "metadata": {},
   "outputs": [
    {
     "name": "stdout",
     "output_type": "stream",
     "text": [
      "Give me an integer number: 3\n",
      "Give me a float  number: 5.9837\n",
      "Your result is:  17.9511\n"
     ]
    }
   ],
   "source": [
    "int_num = int(input('Give me an integer number: '))\n",
    "float_num = float(input('Give me a float  number: '))\n",
    "result = int_num * float_num\n",
    "print('Your result is: ', result)"
   ]
  },
  {
   "cell_type": "markdown",
   "metadata": {},
   "source": [
    "# (2)  Take two numbers from the users. Calculate the result of second number power of the first number."
   ]
  },
  {
   "cell_type": "raw",
   "metadata": {},
   "source": [
    "HINT : To power, you will need to use two asterisks symbols (two multiplication symbols). For example 4 to the power 3 will be\n",
    "\n",
    "result = 4**3"
   ]
  },
  {
   "cell_type": "code",
   "execution_count": 3,
   "metadata": {},
   "outputs": [
    {
     "name": "stdout",
     "output_type": "stream",
     "text": [
      "Give me the base number: 3\n",
      "Give me the power number: 6\n",
      "Your result is:  729\n"
     ]
    }
   ],
   "source": [
    "base_num = int(input('Give me the base number: '))\n",
    "power_num = int(input('Give me the power number: '))\n",
    "result = base_num ** power_num\n",
    "print('Your result is: ', result)"
   ]
  },
  {
   "cell_type": "raw",
   "metadata": {},
   "source": []
  },
  {
   "cell_type": "markdown",
   "metadata": {},
   "source": [
    "SHORTCUT"
   ]
  },
  {
   "cell_type": "code",
   "execution_count": 4,
   "metadata": {},
   "outputs": [
    {
     "name": "stdout",
     "output_type": "stream",
     "text": [
      "Give me the base number: 3\n",
      "Give me the power number: 6\n",
      "Your result is:  729\n"
     ]
    }
   ],
   "source": [
    "base_num = int(input('Give me the base number: '))\n",
    "power_num = int(input('Give me the power number: '))\n",
    "result = pow(base_num, power_num)\n",
    "print('Your result is: ', result)"
   ]
  },
  {
   "cell_type": "markdown",
   "metadata": {},
   "source": [
    "# (3)  Create a random number between 0 to 10"
   ]
  },
  {
   "cell_type": "markdown",
   "metadata": {},
   "source": [
    "HINT: To create a random number, you have to import a built-in library named random. And then you can call the randint method on it"
   ]
  },
  {
   "cell_type": "code",
   "execution_count": 5,
   "metadata": {},
   "outputs": [
    {
     "name": "stdout",
     "output_type": "stream",
     "text": [
      "6\n"
     ]
    }
   ],
   "source": [
    "import random\n",
    "\n",
    "random_num = random.randint(0,10)\n",
    "print(random_num)"
   ]
  },
  {
   "cell_type": "markdown",
   "metadata": {},
   "source": [
    "# (4)Find the floor division of two numbers."
   ]
  },
  {
   "cell_type": "markdown",
   "metadata": {},
   "source": [
    "HINT:  Floor division means the integer part of a division operation. For example, if you divide 17/5 the quotient will be 3.4.\n",
    "\n",
    "Here the integer part is 3.\n",
    "\n",
    "So, you have to find the integer part of the division operation."
   ]
  },
  {
   "cell_type": "code",
   "execution_count": 6,
   "metadata": {},
   "outputs": [
    {
     "name": "stdout",
     "output_type": "stream",
     "text": [
      "Enter the first number: 45\n",
      "Enter the second number: 7\n",
      "6\n"
     ]
    }
   ],
   "source": [
    "num1 = int(input('Enter the first number: '))\n",
    "num2 = int(input('Enter the second number: '))\n",
    " \n",
    "result = num1//num2\n",
    "print(result)"
   ]
  },
  {
   "cell_type": "raw",
   "metadata": {},
   "source": []
  },
  {
   "cell_type": "markdown",
   "metadata": {},
   "source": [
    "SHORTCUT"
   ]
  },
  {
   "cell_type": "code",
   "execution_count": 7,
   "metadata": {},
   "outputs": [
    {
     "name": "stdout",
     "output_type": "stream",
     "text": [
      "Enter the first number: 45\n",
      "Enter the second number: 7\n",
      "6\n"
     ]
    }
   ],
   "source": [
    "import math\n",
    "num1 = int(input('Enter the first number: '))\n",
    "num2 = int(input('Enter the second number: '))\n",
    " \n",
    "result = math.floor(num1/num2)\n",
    "print(result)"
   ]
  },
  {
   "cell_type": "markdown",
   "metadata": {},
   "source": [
    "# (5) To swap two variables: the value of the first variable will become the value of the second variable. On the other hand, the value of the second variable will become the value of the first variable."
   ]
  },
  {
   "cell_type": "markdown",
   "metadata": {},
   "source": [
    "HINT:  To swap two variables, you can use a temp variable."
   ]
  },
  {
   "cell_type": "code",
   "execution_count": 8,
   "metadata": {},
   "outputs": [
    {
     "name": "stdout",
     "output_type": "stream",
     "text": [
      "a, b 5 7\n",
      "a, b 7 5\n"
     ]
    }
   ],
   "source": [
    "a = 5\n",
    "b = 7\n",
    "print('a, b', a, b)\n",
    "# swap these two\n",
    "temp = a\n",
    "a = b\n",
    "b = temp\n",
    "print('a, b', a, b)"
   ]
  },
  {
   "cell_type": "raw",
   "metadata": {},
   "source": []
  },
  {
   "cell_type": "markdown",
   "metadata": {},
   "source": [
    "SHORTCUT"
   ]
  },
  {
   "cell_type": "code",
   "execution_count": 9,
   "metadata": {},
   "outputs": [
    {
     "name": "stdout",
     "output_type": "stream",
     "text": [
      "x, y 12 33\n",
      "x, y 33 12\n"
     ]
    }
   ],
   "source": [
    "x = 12\n",
    "y = 33\n",
    "print('x, y', x, y)\n",
    "#swap these two\n",
    "x, y = y, x\n",
    "print('x, y', x, y)"
   ]
  },
  {
   "cell_type": "markdown",
   "metadata": {},
   "source": [
    "ALTERNATE SOLUTION: "
   ]
  },
  {
   "cell_type": "code",
   "execution_count": 10,
   "metadata": {},
   "outputs": [
    {
     "name": "stdout",
     "output_type": "stream",
     "text": [
      "a, b 5 7\n",
      "a, b 7 5\n"
     ]
    }
   ],
   "source": [
    "a = 5\n",
    "b = 7\n",
    "print('a, b', a, b)\n",
    "# swap these two\n",
    "a = a + b\n",
    "b = a - b\n",
    "a = a - b\n",
    "print('a, b', a, b)"
   ]
  },
  {
   "cell_type": "code",
   "execution_count": null,
   "metadata": {},
   "outputs": [],
   "source": []
  }
 ],
 "metadata": {
  "kernelspec": {
   "display_name": "Python 3",
   "language": "python",
   "name": "python3"
  },
  "language_info": {
   "codemirror_mode": {
    "name": "ipython",
    "version": 3
   },
   "file_extension": ".py",
   "mimetype": "text/x-python",
   "name": "python",
   "nbconvert_exporter": "python",
   "pygments_lexer": "ipython3",
   "version": "3.7.3"
  }
 },
 "nbformat": 4,
 "nbformat_minor": 2
}
